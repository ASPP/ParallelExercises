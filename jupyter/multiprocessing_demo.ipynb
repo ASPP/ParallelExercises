{
 "cells": [
  {
   "cell_type": "code",
   "execution_count": 2,
   "metadata": {
    "collapsed": true
   },
   "outputs": [],
   "source": [
    "import multiprocessing as mp"
   ]
  },
  {
   "cell_type": "code",
   "execution_count": 10,
   "metadata": {
    "collapsed": false
   },
   "outputs": [],
   "source": [
    "p = mp.Pool(18)\n"
   ]
  },
  {
   "cell_type": "markdown",
   "metadata": {},
   "source": [
    "This does not rely on a running IPCluster"
   ]
  },
  {
   "cell_type": "code",
   "execution_count": 13,
   "metadata": {
    "collapsed": false
   },
   "outputs": [
    {
     "data": {
      "text/plain": [
       "[<ForkProcess(ForkPoolWorker-37, started daemon)>,\n",
       " <ForkProcess(ForkPoolWorker-38, started daemon)>,\n",
       " <ForkProcess(ForkPoolWorker-39, started daemon)>,\n",
       " <ForkProcess(ForkPoolWorker-40, started daemon)>,\n",
       " <ForkProcess(ForkPoolWorker-41, started daemon)>,\n",
       " <ForkProcess(ForkPoolWorker-42, started daemon)>,\n",
       " <ForkProcess(ForkPoolWorker-43, started daemon)>,\n",
       " <ForkProcess(ForkPoolWorker-44, started daemon)>,\n",
       " <ForkProcess(ForkPoolWorker-45, started daemon)>,\n",
       " <ForkProcess(ForkPoolWorker-46, started daemon)>,\n",
       " <ForkProcess(ForkPoolWorker-47, started daemon)>,\n",
       " <ForkProcess(ForkPoolWorker-48, started daemon)>,\n",
       " <ForkProcess(ForkPoolWorker-49, started daemon)>,\n",
       " <ForkProcess(ForkPoolWorker-50, started daemon)>,\n",
       " <ForkProcess(ForkPoolWorker-51, started daemon)>,\n",
       " <ForkProcess(ForkPoolWorker-52, started daemon)>,\n",
       " <ForkProcess(ForkPoolWorker-53, started daemon)>,\n",
       " <ForkProcess(ForkPoolWorker-54, started daemon)>]"
      ]
     },
     "execution_count": 13,
     "metadata": {},
     "output_type": "execute_result"
    }
   ],
   "source": [
    "p._pool"
   ]
  },
  {
   "cell_type": "code",
   "execution_count": 14,
   "metadata": {
    "collapsed": true
   },
   "outputs": [],
   "source": [
    "from scipy.special import factorial"
   ]
  },
  {
   "cell_type": "code",
   "execution_count": 15,
   "metadata": {
    "collapsed": true
   },
   "outputs": [],
   "source": [
    "result = p.map(factorial, range(1000))"
   ]
  },
  {
   "cell_type": "code",
   "execution_count": 17,
   "metadata": {
    "collapsed": true
   },
   "outputs": [],
   "source": [
    "def sq(x):\n",
    "    return x**2"
   ]
  },
  {
   "cell_type": "code",
   "execution_count": null,
   "metadata": {
    "collapsed": true
   },
   "outputs": [],
   "source": [
    "result = p.map(sq, range(1000))"
   ]
  },
  {
   "cell_type": "code",
   "execution_count": null,
   "metadata": {
    "collapsed": true
   },
   "outputs": [],
   "source": []
  },
  {
   "cell_type": "markdown",
   "metadata": {},
   "source": [
    "Further reading: https://docs.python.org/2/library/multiprocessing.html"
   ]
  },
  {
   "cell_type": "code",
   "execution_count": null,
   "metadata": {
    "collapsed": true
   },
   "outputs": [],
   "source": []
  }
 ],
 "metadata": {
  "kernelspec": {
   "display_name": "Python 3",
   "language": "python",
   "name": "python3"
  },
  "language_info": {
   "codemirror_mode": {
    "name": "ipython",
    "version": 3
   },
   "file_extension": ".py",
   "mimetype": "text/x-python",
   "name": "python",
   "nbconvert_exporter": "python",
   "pygments_lexer": "ipython3",
   "version": "3.5.2"
  }
 },
 "nbformat": 4,
 "nbformat_minor": 0
}
